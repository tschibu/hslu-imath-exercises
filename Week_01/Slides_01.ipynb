{
 "cells": [
  {
   "cell_type": "markdown",
   "metadata": {},
   "source": [
    "# LU-factorization\n",
    "\n",
    "## Example from the slides"
   ]
  },
  {
   "cell_type": "code",
   "execution_count": 1,
   "metadata": {},
   "outputs": [
    {
     "name": "stdout",
     "output_type": "stream",
     "text": [
      "A =\n",
      "\n",
      "   2  -1   0   0\n",
      "  -1   2  -1   0\n",
      "   0  -1   2  -1\n",
      "   0   0  -1   2\n",
      "\n",
      "L =\n",
      "\n",
      "   1.00000   0.00000   0.00000   0.00000\n",
      "  -0.50000   1.00000   0.00000   0.00000\n",
      "   0.00000  -0.66667   1.00000   0.00000\n",
      "   0.00000   0.00000  -0.75000   1.00000\n",
      "\n",
      "U =\n",
      "\n",
      "   2.00000  -1.00000   0.00000   0.00000\n",
      "   0.00000   1.50000  -1.00000   0.00000\n",
      "   0.00000   0.00000   1.33333  -1.00000\n",
      "   0.00000   0.00000   0.00000   1.25000\n",
      "\n"
     ]
    }
   ],
   "source": [
    "A = [2 -1 0 0; -1 2 -1 0; 0 -1 2 -1; 0 0 -1 2]\n",
    "[L U] = lu(A)"
   ]
  },
  {
   "cell_type": "code",
   "execution_count": 2,
   "metadata": {},
   "outputs": [
    {
     "name": "stdout",
     "output_type": "stream",
     "text": [
      "b =\r\n",
      "\r\n",
      "   1\r\n",
      "   0\r\n",
      "   0\r\n",
      "   1\r\n",
      "\r\n"
     ]
    }
   ],
   "source": [
    "b = [1 0 0 1]'"
   ]
  },
  {
   "cell_type": "code",
   "execution_count": 3,
   "metadata": {},
   "outputs": [
    {
     "name": "stdout",
     "output_type": "stream",
     "text": [
      "y =\n",
      "\n",
      "   1.00000\n",
      "   0.50000\n",
      "   0.33333\n",
      "   1.25000\n",
      "\n",
      "x =\n",
      "\n",
      "   1.00000\n",
      "   1.00000\n",
      "   1.00000\n",
      "   1.00000\n",
      "\n"
     ]
    }
   ],
   "source": [
    "y = L\\b\n",
    "x = U\\y"
   ]
  },
  {
   "cell_type": "code",
   "execution_count": 4,
   "metadata": {},
   "outputs": [
    {
     "name": "stdout",
     "output_type": "stream",
     "text": [
      "L =\n",
      "\n",
      "   1.00000   0.00000   0.00000\n",
      "   0.50000   1.00000   0.00000\n",
      "  -0.00000  -0.80000   1.00000\n",
      "\n",
      "U =\n",
      "\n",
      "  -2.00000  -1.00000   1.00000\n",
      "   0.00000   2.50000  -1.50000\n",
      "   0.00000   0.00000  -0.20000\n",
      "\n",
      "P =\n",
      "\n",
      "Permutation Matrix\n",
      "\n",
      "   0   0   1\n",
      "   0   1   0\n",
      "   1   0   0\n",
      "\n",
      "X =\n",
      "\n",
      "   0   0   0\n",
      "   0   0   0\n",
      "   0   0   0\n",
      "\n"
     ]
    }
   ],
   "source": [
    "AProof = [0 -2 1; -1 2 -1; -2 -1 1];\n",
    "P = [0 0 1; 0 1 0; 1 0 0];\n",
    "[L U P] = lu(AProof)\n",
    "X = P * AProof - L * U;\n",
    "X"
   ]
  }
 ],
 "metadata": {
  "kernelspec": {
   "display_name": "Octave",
   "language": "octave",
   "name": "octave"
  },
  "language_info": {
   "file_extension": ".m",
   "help_links": [
    {
     "text": "GNU Octave",
     "url": "https://www.gnu.org/software/octave/support.html"
    },
    {
     "text": "Octave Kernel",
     "url": "https://github.com/Calysto/octave_kernel"
    },
    {
     "text": "MetaKernel Magics",
     "url": "https://metakernel.readthedocs.io/en/latest/source/README.html"
    }
   ],
   "mimetype": "text/x-octave",
   "name": "octave",
   "version": "5.1.0"
  }
 },
 "nbformat": 4,
 "nbformat_minor": 2
}
