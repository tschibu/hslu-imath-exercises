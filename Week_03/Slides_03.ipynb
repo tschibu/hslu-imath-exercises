{
 "cells": [
  {
   "cell_type": "markdown",
   "metadata": {},
   "source": [
    "# Singular Value Decomposition (SVD)"
   ]
  },
  {
   "cell_type": "markdown",
   "metadata": {},
   "source": [
    "## SVD - two simple examples (1 / 2)"
   ]
  },
  {
   "cell_type": "code",
   "execution_count": 2,
   "metadata": {},
   "outputs": [
    {
     "name": "stdout",
     "output_type": "stream",
     "text": [
      "A =\r\n",
      "\r\n",
      "   1   2\r\n",
      "   2   4\r\n",
      "   3   6\r\n",
      "\r\n"
     ]
    }
   ],
   "source": [
    "A = [1 2; 2 4; 3 6]"
   ]
  },
  {
   "cell_type": "code",
   "execution_count": 4,
   "metadata": {},
   "outputs": [
    {
     "name": "stdout",
     "output_type": "stream",
     "text": [
      "U =\r\n",
      "\r\n",
      "  -0.267261   0.956183   0.119523\r\n",
      "  -0.534522  -0.043902  -0.844013\r\n",
      "  -0.801784  -0.289460   0.522835\r\n",
      "\r\n",
      "SIGMA =\r\n",
      "\r\n",
      "Diagonal Matrix\r\n",
      "\r\n",
      "   8.3666e+00            0\r\n",
      "            0   8.8818e-16\r\n",
      "            0            0\r\n",
      "\r\n",
      "V =\r\n",
      "\r\n",
      "  -0.44721  -0.89443\r\n",
      "  -0.89443   0.44721\r\n",
      "\r\n"
     ]
    }
   ],
   "source": [
    "[U, SIGMA, V] = svd(A)"
   ]
  },
  {
   "cell_type": "code",
   "execution_count": 6,
   "metadata": {},
   "outputs": [
    {
     "name": "stdout",
     "output_type": "stream",
     "text": [
      "ans =  1\r\n"
     ]
    }
   ],
   "source": [
    "rank(A)"
   ]
  },
  {
   "cell_type": "code",
   "execution_count": 8,
   "metadata": {},
   "outputs": [
    {
     "name": "stdout",
     "output_type": "stream",
     "text": [
      "myU =\r\n",
      "\r\n",
      "  -0.26726\r\n",
      "  -0.53452\r\n",
      "  -0.80178\r\n",
      "\r\n"
     ]
    }
   ],
   "source": [
    "myU = U(:,1:rank(1))"
   ]
  },
  {
   "cell_type": "code",
   "execution_count": 26,
   "metadata": {},
   "outputs": [
    {
     "name": "stdout",
     "output_type": "stream",
     "text": [
      "mySIGMA =  3\r\n"
     ]
    }
   ],
   "source": [
    "mySIGMA = SIGMA(1:rank(A),1:rank(A))"
   ]
  },
  {
   "cell_type": "code",
   "execution_count": 11,
   "metadata": {},
   "outputs": [
    {
     "name": "stdout",
     "output_type": "stream",
     "text": [
      "myV =\r\n",
      "\r\n",
      "  -0.44721\r\n",
      "  -0.89443\r\n",
      "\r\n"
     ]
    }
   ],
   "source": [
    "myV = V(:,1:rank(A))"
   ]
  },
  {
   "cell_type": "code",
   "execution_count": 18,
   "metadata": {},
   "outputs": [
    {
     "name": "stdout",
     "output_type": "stream",
     "text": [
      "ans =\r\n",
      "\r\n",
      "   1.0000   2.0000\r\n",
      "   2.0000   4.0000\r\n",
      "   3.0000   6.0000\r\n",
      "\r\n"
     ]
    }
   ],
   "source": [
    "myU * mySIGMA * myV'"
   ]
  },
  {
   "cell_type": "markdown",
   "metadata": {},
   "source": [
    "## SVD - two simple examples (2 / 2)"
   ]
  },
  {
   "cell_type": "code",
   "execution_count": 20,
   "metadata": {},
   "outputs": [
    {
     "name": "stdout",
     "output_type": "stream",
     "text": [
      "M =\r\n",
      "\r\n",
      "   1   0   0   0   2\r\n",
      "   0   0   3   0   0\r\n",
      "   0   0   0   0   0\r\n",
      "   0   2   0   0   0\r\n",
      "\r\n"
     ]
    }
   ],
   "source": [
    "M = [1 0 0 0 2; 0 0 3 0 0; 0 0 0 0 0; 0 2 0 0 0]"
   ]
  },
  {
   "cell_type": "code",
   "execution_count": 23,
   "metadata": {},
   "outputs": [
    {
     "name": "stdout",
     "output_type": "stream",
     "text": [
      "U =\r\n",
      "\r\n",
      "   0   1   0   0\r\n",
      "   1   0   0   0\r\n",
      "   0   0   0  -1\r\n",
      "   0   0   1   0\r\n",
      "\r\n",
      "SIGMA =\r\n",
      "\r\n",
      "Diagonal Matrix\r\n",
      "\r\n",
      "   3.00000         0         0         0         0\r\n",
      "         0   2.23607         0         0         0\r\n",
      "         0         0   2.00000         0         0\r\n",
      "         0         0         0   0.00000         0\r\n",
      "\r\n",
      "V =\r\n",
      "\r\n",
      "  -0.00000   0.44721  -0.00000   0.00000  -0.89443\r\n",
      "  -0.00000   0.00000   1.00000   0.00000   0.00000\r\n",
      "   1.00000   0.00000  -0.00000   0.00000   0.00000\r\n",
      "   0.00000   0.00000  -0.00000   1.00000   0.00000\r\n",
      "   0.00000   0.89443  -0.00000   0.00000   0.44721\r\n",
      "\r\n"
     ]
    }
   ],
   "source": [
    "[U, SIGMA, V] = svd(M)"
   ]
  },
  {
   "cell_type": "code",
   "execution_count": 24,
   "metadata": {},
   "outputs": [
    {
     "name": "stdout",
     "output_type": "stream",
     "text": [
      "ans =  3\r\n"
     ]
    }
   ],
   "source": [
    "rank(M)"
   ]
  },
  {
   "cell_type": "code",
   "execution_count": 22,
   "metadata": {},
   "outputs": [
    {
     "name": "stdout",
     "output_type": "stream",
     "text": [
      "myU =\r\n",
      "\r\n",
      "   0   1   0\r\n",
      "   1   0   0\r\n",
      "   0   0   0\r\n",
      "   0   0   1\r\n",
      "\r\n"
     ]
    }
   ],
   "source": [
    "myU = U(:,1:rank(M))"
   ]
  },
  {
   "cell_type": "code",
   "execution_count": 28,
   "metadata": {},
   "outputs": [
    {
     "name": "stdout",
     "output_type": "stream",
     "text": [
      "mySIGMA =\r\n",
      "\r\n",
      "Diagonal Matrix\r\n",
      "\r\n",
      "   3.0000        0        0\r\n",
      "        0   2.2361        0\r\n",
      "        0        0   2.0000\r\n",
      "\r\n"
     ]
    }
   ],
   "source": [
    "mySIGMA = SIGMA(1:rank(M),1:rank(M))"
   ]
  },
  {
   "cell_type": "code",
   "execution_count": 30,
   "metadata": {},
   "outputs": [
    {
     "name": "stdout",
     "output_type": "stream",
     "text": [
      "myV =\r\n",
      "\r\n",
      "  -0.00000   0.44721  -0.00000\r\n",
      "  -0.00000   0.00000   1.00000\r\n",
      "   1.00000   0.00000  -0.00000\r\n",
      "   0.00000   0.00000  -0.00000\r\n",
      "   0.00000   0.89443  -0.00000\r\n",
      "\r\n"
     ]
    }
   ],
   "source": [
    "myV = V(:,1:rank(M))"
   ]
  },
  {
   "cell_type": "code",
   "execution_count": 33,
   "metadata": {},
   "outputs": [
    {
     "name": "stdout",
     "output_type": "stream",
     "text": [
      "ans =\r\n",
      "\r\n",
      "   1.00000   0.00000   0.00000   0.00000   2.00000\r\n",
      "   0.00000   0.00000   3.00000   0.00000   0.00000\r\n",
      "   0.00000   0.00000   0.00000   0.00000   0.00000\r\n",
      "   0.00000   2.00000   0.00000   0.00000   0.00000\r\n",
      "\r\n"
     ]
    }
   ],
   "source": [
    "U * SIGMA * V'"
   ]
  },
  {
   "cell_type": "code",
   "execution_count": 39,
   "metadata": {},
   "outputs": [
    {
     "name": "stdout",
     "output_type": "stream",
     "text": [
      "ans =\r\n",
      "\r\n",
      "   1.00000   0.00000   0.00000   0.00000   2.00000\r\n",
      "   0.00000   0.00000   3.00000   0.00000   0.00000\r\n",
      "   0.00000   0.00000   0.00000   0.00000   0.00000\r\n",
      "   0.00000   2.00000   0.00000   0.00000   0.00000\r\n",
      "\r\n"
     ]
    }
   ],
   "source": [
    "U * SIGMA * V'"
   ]
  },
  {
   "cell_type": "code",
   "execution_count": 40,
   "metadata": {},
   "outputs": [
    {
     "name": "stdout",
     "output_type": "stream",
     "text": [
      "ans =\r\n",
      "\r\n",
      "   0   0   0   0   0\r\n",
      "   0   0   0   0   0\r\n",
      "   0   0   0   0   0\r\n",
      "   0   0   0   0   0\r\n",
      "\r\n"
     ]
    }
   ],
   "source": [
    "U * SIGMA * V' - myU * mySIGMA * myV'"
   ]
  }
 ],
 "metadata": {
  "kernelspec": {
   "display_name": "Octave",
   "language": "octave",
   "name": "octave"
  },
  "language_info": {
   "file_extension": ".m",
   "help_links": [
    {
     "text": "GNU Octave",
     "url": "https://www.gnu.org/software/octave/support.html"
    },
    {
     "text": "Octave Kernel",
     "url": "https://github.com/Calysto/octave_kernel"
    },
    {
     "text": "MetaKernel Magics",
     "url": "https://metakernel.readthedocs.io/en/latest/source/README.html"
    }
   ],
   "mimetype": "text/x-octave",
   "name": "octave",
   "version": "5.1.0"
  }
 },
 "nbformat": 4,
 "nbformat_minor": 2
}
