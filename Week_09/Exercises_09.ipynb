{
 "cells": [
  {
   "cell_type": "markdown",
   "metadata": {},
   "source": [
    "# 1 Numerical Integration"
   ]
  },
  {
   "cell_type": "markdown",
   "metadata": {},
   "source": [
    "## trapezoidal rule"
   ]
  },
  {
   "cell_type": "code",
   "execution_count": 1,
   "metadata": {},
   "outputs": [],
   "source": [
    "function T = TrapezoidalRule(f,a,b,n)\n",
    "% TRAPEZOIDALRULE computes the integral of f by subdividing the\n",
    "% interval [a,b] into n intervals using the trapezoidal rule.\n",
    "    x = linspace(a,b,n+1);\n",
    "    T = feval(f,a) + feval(f,b);\n",
    "    for i=1:n-1\n",
    "        T = T + 2*feval(f,x(i+1));\n",
    "    end\n",
    "    T = (b-a)*T/(2*n);\n",
    "end"
   ]
  },
  {
   "cell_type": "markdown",
   "metadata": {},
   "source": [
    "Function: $e^{-x^2}$"
   ]
  },
  {
   "cell_type": "code",
   "execution_count": 6,
   "metadata": {},
   "outputs": [
    {
     "name": "stdout",
     "output_type": "stream",
     "text": [
      "TrapezoidalRule for n=32 \t intervall = 1.628312899375075e+00\r\n",
      "TrapezoidalRule for n=64 \t intervall = 1.628757382371713e+00\r\n",
      "TrapezoidalRule for n=128 \t intervall = 1.628868489202797e+00\r\n",
      "TrapezoidalRule for n=256 \t intervall = 1.628896265039894e+00\r\n",
      "TrapezoidalRule for n=512 \t intervall = 1.628903208944738e+00\r\n",
      "TrapezoidalRule for n=1024 \t intervall = 1.628904944917545e+00\r\n"
     ]
    }
   ],
   "source": [
    "format long\n",
    "f = @(x) [exp(-x*x)];\n",
    "a = [32,64,128,256,512,1024];\n",
    "for i = a\n",
    "    format long\n",
    "    printf('TrapezoidalRule for n=%i \\t intervall = %0.15e\\n',i, TrapezoidalRule(f,-1,2,i))\n",
    "endfor"
   ]
  },
  {
   "cell_type": "code",
   "execution_count": 3,
   "metadata": {},
   "outputs": [
    {
     "name": "stdout",
     "output_type": "stream",
     "text": [
      "ans =  1.628905523574849\r\n"
     ]
    }
   ],
   "source": [
    "quad(f,-1,2)"
   ]
  },
  {
   "cell_type": "code",
   "execution_count": 7,
   "metadata": {},
   "outputs": [
    {
     "name": "stdout",
     "output_type": "stream",
     "text": [
      "ans =  1.628905523574848\r\n"
     ]
    }
   ],
   "source": [
    "(erf(2)-erf(-1)) * sqrt(pi)/2"
   ]
  },
  {
   "cell_type": "markdown",
   "metadata": {},
   "source": [
    "## simpson rule"
   ]
  },
  {
   "cell_type": "code",
   "execution_count": 9,
   "metadata": {},
   "outputs": [],
   "source": [
    "function S = SimpsonsRule(f,a,b,n)\n",
    "% SIMPSONSRULE computes the integral of f by subdividing the\n",
    "% interval [a,b] into an even number n of intervals using\n",
    "% Simpson's rule.\n",
    "    x = linspace(a,b,n+1);\n",
    "    S = feval(f,a) + feval(f,b);\n",
    "    for i=2:2:n\n",
    "        S = S + 4*feval(f,x(i));\n",
    "    end\n",
    "    for i=3:2:n-1\n",
    "        S = S + 2*feval(f,x(i));\n",
    "    end\n",
    "    S = (b-a)*S/(3*n);\n",
    "end"
   ]
  },
  {
   "cell_type": "code",
   "execution_count": 12,
   "metadata": {},
   "outputs": [
    {
     "name": "stdout",
     "output_type": "stream",
     "text": [
      "Simpsons-Rule  for n=32 \t intervall = 1.628905839171525e+00\r\n",
      "Simpsons-Rule  for n=64 \t intervall = 1.628905543370592e+00\r\n",
      "Simpsons-Rule  for n=128 \t intervall = 1.628905524813158e+00\r\n",
      "Simpsons-Rule  for n=256 \t intervall = 1.628905523652261e+00\r\n",
      "Simpsons-Rule  for n=512 \t intervall = 1.628905523579687e+00\r\n",
      "Simpsons-Rule  for n=1024 \t intervall = 1.628905523575152e+00\r\n"
     ]
    }
   ],
   "source": [
    "format long\n",
    "f = @(x) [exp(-x*x)];\n",
    "a = [32,64,128,256,512,1024];\n",
    "for i = a\n",
    "    format long\n",
    "    printf('Simpsons-Rule  for n=%i \\t intervall = %0.15e\\n',i, SimpsonsRule(f,-1,2,i))\n",
    "endfor"
   ]
  }
 ],
 "metadata": {
  "kernelspec": {
   "display_name": "Octave",
   "language": "octave",
   "name": "octave"
  },
  "language_info": {
   "file_extension": ".m",
   "help_links": [
    {
     "text": "GNU Octave",
     "url": "https://www.gnu.org/software/octave/support.html"
    },
    {
     "text": "Octave Kernel",
     "url": "https://github.com/Calysto/octave_kernel"
    },
    {
     "text": "MetaKernel Magics",
     "url": "https://metakernel.readthedocs.io/en/latest/source/README.html"
    }
   ],
   "mimetype": "text/x-octave",
   "name": "octave",
   "version": "5.1.0"
  }
 },
 "nbformat": 4,
 "nbformat_minor": 2
}
