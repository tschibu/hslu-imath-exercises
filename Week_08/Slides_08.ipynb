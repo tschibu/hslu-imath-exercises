{
 "cells": [
  {
   "cell_type": "markdown",
   "metadata": {},
   "source": [
    "# machine epislon"
   ]
  },
  {
   "cell_type": "code",
   "execution_count": 1,
   "metadata": {},
   "outputs": [
    {
     "name": "stdout",
     "output_type": "stream",
     "text": [
      "x =  1\n",
      "x =  1\n",
      "x =  0.50000\n",
      "x =  0.50000\n",
      "x =  0.25000\n",
      "x =  0.25000\n",
      "x =  0.12500\n",
      "x =  0.12500\n",
      "x =  0.062500\n",
      "x =  0.062500\n",
      "x =  0.031250\n",
      "x =  0.031250\n",
      "x =  0.015625\n",
      "x =  0.015625\n",
      "x =  0.0078125\n",
      "x =  0.0078125\n",
      "x =  0.0039062\n",
      "x =  0.0039062\n",
      "x =  0.0019531\n",
      "x =  0.0019531\n",
      "x =  0.00097656\n",
      "x =  0.00097656\n",
      "x =  0.00048828\n",
      "x =  0.00048828\n",
      "x =  0.00024414\n",
      "x =  0.00024414\n",
      "x =  0.00012207\n",
      "x =  0.00012207\n",
      "x =  0.000061035\n",
      "x =  0.000061035\n",
      "x =  0.000030518\n",
      "x =  0.000030518\n",
      "x =  0.000015259\n",
      "x =  0.000015259\n",
      "x =  0.0000076294\n",
      "x =  0.0000076294\n",
      "x =  0.0000038147\n",
      "x =  0.0000038147\n",
      "x =  0.0000019073\n",
      "x =  0.0000019073\n",
      "x =  0.00000095367\n",
      "x =  0.00000095367\n",
      "x =  0.00000047684\n",
      "x =  0.00000047684\n",
      "x =  0.00000023842\n",
      "x =  0.00000023842\n",
      "x =  0.00000011921\n",
      "x =  0.00000011921\n",
      "x =  0.000000059605\n",
      "x =  0.000000059605\n",
      "x =  0.000000029802\n",
      "x =  0.000000029802\n",
      "x =  0.000000014901\n",
      "x =  0.000000014901\n",
      "x =  0.0000000074506\n",
      "x =  0.0000000074506\n",
      "x =  0.0000000037253\n",
      "x =  0.0000000037253\n",
      "x =  0.0000000018626\n",
      "x =  0.0000000018626\n",
      "x =  0.00000000093132\n",
      "x =  0.00000000093132\n",
      "x =  0.00000000046566\n",
      "x =  0.00000000046566\n",
      "x =  0.00000000023283\n",
      "x =  0.00000000023283\n",
      "x =  0.00000000011642\n",
      "x =  0.00000000011642\n",
      "x =  0.000000000058208\n",
      "x =  0.000000000058208\n",
      "x =  0.000000000029104\n",
      "x =  0.000000000029104\n",
      "x =  0.000000000014552\n",
      "x =  0.000000000014552\n",
      "x =    7.2760e-12\n",
      "x =    7.2760e-12\n",
      "x =    3.6380e-12\n",
      "x =    3.6380e-12\n",
      "x =    1.8190e-12\n",
      "x =    1.8190e-12\n",
      "x =    9.0949e-13\n",
      "x =    9.0949e-13\n",
      "x =    4.5475e-13\n",
      "x =    4.5475e-13\n",
      "x =    2.2737e-13\n",
      "x =    2.2737e-13\n",
      "x =    1.1369e-13\n",
      "x =    1.1369e-13\n",
      "x =    5.6843e-14\n",
      "x =    5.6843e-14\n",
      "x =    2.8422e-14\n",
      "x =    2.8422e-14\n",
      "x =    1.4211e-14\n",
      "x =    1.4211e-14\n",
      "x =    7.1054e-15\n",
      "x =    7.1054e-15\n",
      "x =    3.5527e-15\n",
      "x =    3.5527e-15\n",
      "x =    1.7764e-15\n",
      "x =    1.7764e-15\n",
      "x =    8.8818e-16\n",
      "x =    8.8818e-16\n",
      "x =    4.4409e-16\n",
      "x =    4.4409e-16\n",
      "x =    2.2204e-16\n",
      "x =    2.2204e-16\n",
      "x =    1.1102e-16\n"
     ]
    }
   ],
   "source": [
    "x = 1\n",
    "while 1+x > 1\n",
    "    x\n",
    "    x = x/2\n",
    "    pause(0.5)\n",
    "end"
   ]
  },
  {
   "cell_type": "markdown",
   "metadata": {},
   "source": [
    "# Error in computations\n",
    "## Canellation"
   ]
  },
  {
   "cell_type": "code",
   "execution_count": 2,
   "metadata": {},
   "outputs": [
    {
     "name": "stdout",
     "output_type": "stream",
     "text": [
      "    1.0000889006e-12\r\n"
     ]
    }
   ],
   "source": [
    "printf('%20.10e\\n', 3.000000000001 - 3);"
   ]
  },
  {
   "cell_type": "markdown",
   "metadata": {},
   "source": [
    "# LU-factorization"
   ]
  },
  {
   "cell_type": "code",
   "execution_count": 3,
   "metadata": {},
   "outputs": [],
   "source": [
    "function [L, U] = MyLU(A)\n",
    "    %--------------------------------------------------------------\n",
    "    % LU decomposition (Gauss-Elimination) of a regular matrix A.\n",
    "    % Result is a lower triangular nxn-matrix and an upper triangular\n",
    "    % nxn-matrix U such that L * U = A. The computation is done \n",
    "    % \"in place\", i.e. at the end A contains L und U and no additional\n",
    "    % storage space is used to store L and U.\n",
    "    %--------------------------------------------------------------\n",
    "    [m,n] = size(A);\n",
    "    if (m ~= n), error('Matrix A is not square'), end\n",
    "    for k=1:n-1\n",
    "      A(k+1:n,k) = A(k+1:n,k)/A(k,k);\n",
    "      A(k+1:n,k+1:n) = A(k+1:n,k+1:n)-A(k+1:n,k)*A(k,k+1:n);\n",
    "    end\n",
    "    L = tril(A,-1) + eye(n,n);\n",
    "    U = triu(A);\n",
    "    return;\n",
    "endfunction"
   ]
  },
  {
   "cell_type": "code",
   "execution_count": 4,
   "metadata": {},
   "outputs": [
    {
     "name": "stdout",
     "output_type": "stream",
     "text": [
      "A =\n",
      "\n",
      "    5   -5    0    0\n",
      "   -5    7   -2    0\n",
      "    0   -2   20  -18\n",
      "    0    0  -18   19\n",
      "\n",
      "b =\n",
      "\n",
      "    5\n",
      "   -7\n",
      "   20\n",
      "  -17\n",
      "\n"
     ]
    }
   ],
   "source": [
    "A = [ 5 -5 0 0 ; -5 7 -2 0 ; 0 -2 20 -18; 0 0 -18 19]\n",
    "b = [5 ; -7 ;20 ; -17]"
   ]
  },
  {
   "cell_type": "code",
   "execution_count": 5,
   "metadata": {},
   "outputs": [
    {
     "name": "stdout",
     "output_type": "stream",
     "text": [
      "L =\r\n",
      "\r\n",
      "   1   0   0   0\r\n",
      "  -1   1   0   0\r\n",
      "   0  -1   1   0\r\n",
      "   0   0  -1   1\r\n",
      "\r\n",
      "U =\r\n",
      "\r\n",
      "    5   -5    0    0\r\n",
      "    0    2   -2    0\r\n",
      "    0    0   18  -18\r\n",
      "    0    0    0    1\r\n",
      "\r\n"
     ]
    }
   ],
   "source": [
    "[L U] = MyLU(A)"
   ]
  }
 ],
 "metadata": {
  "kernelspec": {
   "display_name": "Octave",
   "language": "octave",
   "name": "octave"
  },
  "language_info": {
   "file_extension": ".m",
   "help_links": [
    {
     "text": "GNU Octave",
     "url": "https://www.gnu.org/software/octave/support.html"
    },
    {
     "text": "Octave Kernel",
     "url": "https://github.com/Calysto/octave_kernel"
    },
    {
     "text": "MetaKernel Magics",
     "url": "https://metakernel.readthedocs.io/en/latest/source/README.html"
    }
   ],
   "mimetype": "text/x-octave",
   "name": "octave",
   "version": "5.1.0"
  }
 },
 "nbformat": 4,
 "nbformat_minor": 2
}
