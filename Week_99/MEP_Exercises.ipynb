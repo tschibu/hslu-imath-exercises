{
 "cells": [
  {
   "cell_type": "markdown",
   "metadata": {},
   "source": [
    "# Linear Algebra - Exercise 1 - Part B"
   ]
  },
  {
   "cell_type": "markdown",
   "metadata": {},
   "source": [
    "Verify that $u_{1}$ is a unit eigenvector of $AA^{T}$."
   ]
  },
  {
   "cell_type": "code",
   "execution_count": 1,
   "metadata": {},
   "outputs": [
    {
     "name": "stdout",
     "output_type": "stream",
     "text": [
      "U =\r\n",
      "\r\n",
      "  -0.94868   0.31623\r\n",
      "   0.31623   0.94868\r\n",
      "\r\n"
     ]
    }
   ],
   "source": [
    "u = 1/sqrt(10);\n",
    "U = [-3 1; 1 3];\n",
    "U = u*U"
   ]
  },
  {
   "cell_type": "code",
   "execution_count": 2,
   "metadata": {},
   "outputs": [
    {
     "name": "stdout",
     "output_type": "stream",
     "text": [
      "S =\r\n",
      "\r\n",
      "   0.89443   0.44721\r\n",
      "   0.44721   0.89443\r\n",
      "\r\n"
     ]
    }
   ],
   "source": [
    "s = 1/sqrt(5);\n",
    "S = [2 1 ; 1 2];\n",
    "S = s*S"
   ]
  },
  {
   "cell_type": "code",
   "execution_count": 3,
   "metadata": {},
   "outputs": [
    {
     "name": "stdout",
     "output_type": "stream",
     "text": [
      "E =\r\n",
      "\r\n",
      "   0.00000   0.00000\r\n",
      "   0.00000   7.07107\r\n",
      "\r\n"
     ]
    }
   ],
   "source": [
    "E = [0 0 ; 0 sqrt(50)]"
   ]
  },
  {
   "cell_type": "code",
   "execution_count": 4,
   "metadata": {},
   "outputs": [
    {
     "name": "stdout",
     "output_type": "stream",
     "text": [
      "A =\r\n",
      "\r\n",
      "   1   2\r\n",
      "   3   6\r\n",
      "\r\n"
     ]
    }
   ],
   "source": [
    "A = U * E * S"
   ]
  }
 ],
 "metadata": {
  "kernelspec": {
   "display_name": "Octave",
   "language": "octave",
   "name": "octave"
  },
  "language_info": {
   "file_extension": ".m",
   "help_links": [
    {
     "text": "GNU Octave",
     "url": "https://www.gnu.org/software/octave/support.html"
    },
    {
     "text": "Octave Kernel",
     "url": "https://github.com/Calysto/octave_kernel"
    },
    {
     "text": "MetaKernel Magics",
     "url": "https://metakernel.readthedocs.io/en/latest/source/README.html"
    }
   ],
   "mimetype": "text/x-octave",
   "name": "octave",
   "version": "5.1.0"
  }
 },
 "nbformat": 4,
 "nbformat_minor": 2
}
