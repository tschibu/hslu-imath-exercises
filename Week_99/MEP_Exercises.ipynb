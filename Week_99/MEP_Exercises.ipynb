{
 "cells": [
  {
   "cell_type": "markdown",
   "metadata": {},
   "source": [
    "# Linear Algebra - Exercise 1 - Part B"
   ]
  },
  {
   "cell_type": "markdown",
   "metadata": {},
   "source": [
    "Verify that $u_{1}$ is a unit eigenvector of $AA^{T}$."
   ]
  },
  {
   "cell_type": "code",
   "execution_count": 1,
   "metadata": {},
   "outputs": [
    {
     "name": "stdout",
     "output_type": "stream",
     "text": [
      "U =\r\n",
      "\r\n",
      "  -0.94868   0.31623\r\n",
      "   0.31623   0.94868\r\n",
      "\r\n"
     ]
    }
   ],
   "source": [
    "u = 1/sqrt(10);\n",
    "U = [-3 1; 1 3];\n",
    "U = u*U"
   ]
  },
  {
   "cell_type": "code",
   "execution_count": 2,
   "metadata": {},
   "outputs": [
    {
     "name": "stdout",
     "output_type": "stream",
     "text": [
      "S =\r\n",
      "\r\n",
      "   0.89443   0.44721\r\n",
      "   0.44721   0.89443\r\n",
      "\r\n"
     ]
    }
   ],
   "source": [
    "s = 1/sqrt(5);\n",
    "S = [2 1 ; 1 2];\n",
    "S = s*S"
   ]
  },
  {
   "cell_type": "code",
   "execution_count": 3,
   "metadata": {},
   "outputs": [
    {
     "name": "stdout",
     "output_type": "stream",
     "text": [
      "E =\r\n",
      "\r\n",
      "   0.00000   0.00000\r\n",
      "   0.00000   7.07107\r\n",
      "\r\n"
     ]
    }
   ],
   "source": [
    "E = [0 0 ; 0 sqrt(50)]"
   ]
  },
  {
   "cell_type": "code",
   "execution_count": 4,
   "metadata": {},
   "outputs": [
    {
     "name": "stdout",
     "output_type": "stream",
     "text": [
      "A =\r\n",
      "\r\n",
      "   1   2\r\n",
      "   3   6\r\n",
      "\r\n"
     ]
    }
   ],
   "source": [
    "A = U * E * S"
   ]
  },
  {
   "cell_type": "markdown",
   "metadata": {},
   "source": [
    "# Numerical Integration - Exercise 4 - Part B"
   ]
  },
  {
   "cell_type": "code",
   "execution_count": 5,
   "metadata": {},
   "outputs": [],
   "source": [
    "function S = SimpsonsRule(f,a,b,n)\n",
    "% SIMPSONSRULE computes the integral of f by subdividing the\n",
    "% interval [a,b] into an even number n of intervals using\n",
    "% Simpson's rule.\n",
    "    x = linspace(a,b,n+1);\n",
    "    S = feval(f,a) + feval(f,b);\n",
    "    for i=2:2:n\n",
    "        S = S + 4*feval(f,x(i));\n",
    "    end\n",
    "    for i=3:2:n-1\n",
    "        S = S + 2*feval(f,x(i));\n",
    "    end\n",
    "    S = (b-a)*S/(3*n);\n",
    "end"
   ]
  },
  {
   "cell_type": "code",
   "execution_count": 6,
   "metadata": {},
   "outputs": [],
   "source": [
    "format long"
   ]
  },
  {
   "cell_type": "code",
   "execution_count": 7,
   "metadata": {},
   "outputs": [
    {
     "name": "stdout",
     "output_type": "stream",
     "text": [
      "f =\n",
      "\n",
      "@(x) [sin(x)]\n",
      "\n",
      "a = 0\n",
      "b =  3.141592653589793\n",
      "n =  54\n"
     ]
    }
   ],
   "source": [
    "f = @(x) [sin(x)]\n",
    "a = 0\n",
    "b = pi\n",
    "n = 54"
   ]
  },
  {
   "cell_type": "code",
   "execution_count": 8,
   "metadata": {},
   "outputs": [
    {
     "name": "stdout",
     "output_type": "stream",
     "text": [
      "ans =  2.000000127337688\r\n"
     ]
    }
   ],
   "source": [
    "SimpsonsRule(f,a,b,n)"
   ]
  }
 ],
 "metadata": {
  "kernelspec": {
   "display_name": "Octave",
   "language": "octave",
   "name": "octave"
  },
  "language_info": {
   "file_extension": ".m",
   "help_links": [
    {
     "text": "GNU Octave",
     "url": "https://www.gnu.org/software/octave/support.html"
    },
    {
     "text": "Octave Kernel",
     "url": "https://github.com/Calysto/octave_kernel"
    },
    {
     "text": "MetaKernel Magics",
     "url": "https://metakernel.readthedocs.io/en/latest/source/README.html"
    }
   ],
   "mimetype": "text/x-octave",
   "name": "octave",
   "version": "5.1.0"
  }
 },
 "nbformat": 4,
 "nbformat_minor": 2
}
