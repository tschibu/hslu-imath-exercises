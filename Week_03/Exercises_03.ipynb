{
 "cells": [
  {
   "cell_type": "markdown",
   "metadata": {},
   "source": [
    "# Eigenvalues & Eigenvectors"
   ]
  },
  {
   "cell_type": "markdown",
   "metadata": {},
   "source": [
    "## Exercises 5 - a)"
   ]
  },
  {
   "cell_type": "code",
   "execution_count": 1,
   "metadata": {},
   "outputs": [
    {
     "name": "stdout",
     "output_type": "stream",
     "text": [
      "A =\r\n",
      "\r\n",
      "   3   4\r\n",
      "   4  -3\r\n",
      "\r\n"
     ]
    }
   ],
   "source": [
    "A = [3 4 ; 4 -3]"
   ]
  },
  {
   "cell_type": "code",
   "execution_count": 2,
   "metadata": {},
   "outputs": [
    {
     "name": "stdout",
     "output_type": "stream",
     "text": [
      "spur:\n",
      "ans = 0\n"
     ]
    }
   ],
   "source": [
    "printf('spur:\\n')\n",
    "sum(diag(A))"
   ]
  },
  {
   "cell_type": "code",
   "execution_count": 3,
   "metadata": {},
   "outputs": [
    {
     "name": "stdout",
     "output_type": "stream",
     "text": [
      "determinant:\n",
      "ans = -25\n"
     ]
    }
   ],
   "source": [
    "printf('determinant:\\n')\n",
    "sum(det(A))"
   ]
  },
  {
   "cell_type": "code",
   "execution_count": 4,
   "metadata": {},
   "outputs": [
    {
     "name": "stdout",
     "output_type": "stream",
     "text": [
      "S =\r\n",
      "\r\n",
      "   0.44721  -0.89443\r\n",
      "  -0.89443  -0.44721\r\n",
      "\r\n",
      "lambda =\r\n",
      "\r\n",
      "Diagonal Matrix\r\n",
      "\r\n",
      "  -5   0\r\n",
      "   0   5\r\n",
      "\r\n"
     ]
    }
   ],
   "source": [
    "[S, lambda] = eig(A)"
   ]
  },
  {
   "cell_type": "code",
   "execution_count": 5,
   "metadata": {},
   "outputs": [
    {
     "name": "stdout",
     "output_type": "stream",
     "text": [
      "ans =\r\n",
      "\r\n",
      "   3.0000   4.0000\r\n",
      "   4.0000  -3.0000\r\n",
      "\r\n"
     ]
    }
   ],
   "source": [
    "S * lambda * inv(S)"
   ]
  },
  {
   "cell_type": "markdown",
   "metadata": {},
   "source": [
    "My solution from calculation by hand:"
   ]
  },
  {
   "cell_type": "code",
   "execution_count": 6,
   "metadata": {},
   "outputs": [
    {
     "name": "stdout",
     "output_type": "stream",
     "text": [
      "myLambda =\r\n",
      "\r\n",
      "  -5   0\r\n",
      "   0   5\r\n",
      "\r\n"
     ]
    }
   ],
   "source": [
    "myLambda = [-5 0 ; 0 5]"
   ]
  },
  {
   "cell_type": "code",
   "execution_count": 7,
   "metadata": {},
   "outputs": [
    {
     "name": "stdout",
     "output_type": "stream",
     "text": [
      "myS =\r\n",
      "\r\n",
      "   0.44721   0.89443\r\n",
      "  -0.89443   0.44721\r\n",
      "\r\n"
     ]
    }
   ],
   "source": [
    "myS = 1/sqrt(5) * [1 2 ; -2 1]"
   ]
  },
  {
   "cell_type": "code",
   "execution_count": 8,
   "metadata": {},
   "outputs": [
    {
     "name": "stdout",
     "output_type": "stream",
     "text": [
      "ans =\r\n",
      "\r\n",
      "   3.0000   4.0000\r\n",
      "   4.0000  -3.0000\r\n",
      "\r\n"
     ]
    }
   ],
   "source": [
    "myS * myLambda * inv(myS)"
   ]
  },
  {
   "cell_type": "markdown",
   "metadata": {},
   "source": [
    "## Exercises 5 - b)"
   ]
  },
  {
   "cell_type": "code",
   "execution_count": 9,
   "metadata": {},
   "outputs": [
    {
     "name": "stdout",
     "output_type": "stream",
     "text": [
      "A =\r\n",
      "\r\n",
      "   1  -1   0\r\n",
      "  -1   2  -1\r\n",
      "   0  -1   1\r\n",
      "\r\n"
     ]
    }
   ],
   "source": [
    "A = [1 -1 0; -1 2 -1; 0 -1 1]"
   ]
  },
  {
   "cell_type": "code",
   "execution_count": 10,
   "metadata": {},
   "outputs": [
    {
     "name": "stdout",
     "output_type": "stream",
     "text": [
      "spur:\n",
      "ans =  4\n"
     ]
    }
   ],
   "source": [
    "printf('spur:\\n')\n",
    "sum(diag(A))"
   ]
  },
  {
   "cell_type": "code",
   "execution_count": 11,
   "metadata": {},
   "outputs": [
    {
     "name": "stdout",
     "output_type": "stream",
     "text": [
      "determinant:\n",
      "ans = 0\n"
     ]
    }
   ],
   "source": [
    "printf('determinant:\\n')\n",
    "sum(det(A))"
   ]
  },
  {
   "cell_type": "code",
   "execution_count": 12,
   "metadata": {},
   "outputs": [
    {
     "name": "stdout",
     "output_type": "stream",
     "text": [
      "S =\r\n",
      "\r\n",
      "  -5.7735e-01  -7.0711e-01   4.0825e-01\r\n",
      "  -5.7735e-01   9.7145e-17  -8.1650e-01\r\n",
      "  -5.7735e-01   7.0711e-01   4.0825e-01\r\n",
      "\r\n",
      "lambda =\r\n",
      "\r\n",
      "Diagonal Matrix\r\n",
      "\r\n",
      "   9.9966e-17            0            0\r\n",
      "            0   1.0000e+00            0\r\n",
      "            0            0   3.0000e+00\r\n",
      "\r\n"
     ]
    }
   ],
   "source": [
    "[S, lambda] = eig(A)"
   ]
  },
  {
   "cell_type": "code",
   "execution_count": 13,
   "metadata": {},
   "outputs": [
    {
     "name": "stdout",
     "output_type": "stream",
     "text": [
      "ans =\r\n",
      "\r\n",
      "   1.0000e+00  -1.0000e+00   6.5524e-17\r\n",
      "  -1.0000e+00   2.0000e+00  -1.0000e+00\r\n",
      "   1.2561e-16  -1.0000e+00   1.0000e+00\r\n",
      "\r\n"
     ]
    }
   ],
   "source": [
    "S * lambda * inv(S)"
   ]
  },
  {
   "cell_type": "markdown",
   "metadata": {},
   "source": [
    "My solution from calculation by hand:"
   ]
  },
  {
   "cell_type": "code",
   "execution_count": 14,
   "metadata": {},
   "outputs": [
    {
     "name": "stdout",
     "output_type": "stream",
     "text": [
      "myLambda =\r\n",
      "\r\n",
      "   0   0   0\r\n",
      "   0   3   0\r\n",
      "   0   0   1\r\n",
      "\r\n"
     ]
    }
   ],
   "source": [
    "myLambda = [0 0 0 ; 0 3 0; 0 0 1]"
   ]
  },
  {
   "cell_type": "code",
   "execution_count": 15,
   "metadata": {},
   "outputs": [
    {
     "name": "stdout",
     "output_type": "stream",
     "text": [
      "myS =\r\n",
      "\r\n",
      "   0.57735   0.40825   0.70711\r\n",
      "   0.57735  -0.81650   0.00000\r\n",
      "   0.57735   0.40825  -0.70711\r\n",
      "\r\n"
     ]
    }
   ],
   "source": [
    "myS = 1/sqrt(6) * [sqrt(2) 1 sqrt(3); sqrt(2) -2 0 ; sqrt(2) 1 -sqrt(3)]"
   ]
  },
  {
   "cell_type": "code",
   "execution_count": 16,
   "metadata": {},
   "outputs": [
    {
     "name": "stdout",
     "output_type": "stream",
     "text": [
      "ans =\r\n",
      "\r\n",
      "   1.0000e+00  -1.0000e+00   1.0147e-17\r\n",
      "  -1.0000e+00   2.0000e+00  -1.0000e+00\r\n",
      "   1.0147e-17  -1.0000e+00   1.0000e+00\r\n",
      "\r\n"
     ]
    }
   ],
   "source": [
    "myS * myLambda * inv(myS)"
   ]
  }
 ],
 "metadata": {
  "kernelspec": {
   "display_name": "Octave",
   "language": "octave",
   "name": "octave"
  },
  "language_info": {
   "file_extension": ".m",
   "help_links": [
    {
     "text": "GNU Octave",
     "url": "https://www.gnu.org/software/octave/support.html"
    },
    {
     "text": "Octave Kernel",
     "url": "https://github.com/Calysto/octave_kernel"
    },
    {
     "text": "MetaKernel Magics",
     "url": "https://metakernel.readthedocs.io/en/latest/source/README.html"
    }
   ],
   "mimetype": "text/x-octave",
   "name": "octave",
   "version": "5.1.0"
  }
 },
 "nbformat": 4,
 "nbformat_minor": 2
}
