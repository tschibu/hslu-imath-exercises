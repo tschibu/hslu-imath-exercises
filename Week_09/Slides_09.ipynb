{
 "cells": [
  {
   "cell_type": "markdown",
   "metadata": {},
   "source": [
    "# Trapezoidal Rule"
   ]
  },
  {
   "cell_type": "code",
   "execution_count": 1,
   "metadata": {},
   "outputs": [],
   "source": [
    "function T = TrapezoidalRule(f,a,b,n)\n",
    "% TRAPEZOIDALRULE computes the integral of f by subdividing the\n",
    "% interval [a,b] into n intervals using the trapezoidal rule.\n",
    "    x = linspace(a,b,n+1);\n",
    "    T = feval(f,a) + feval(f,b);\n",
    "    for i=1:n-1\n",
    "        T = T + 2*feval(f,x(i+1));\n",
    "    end\n",
    "    T = (b-a)*T/(2*n);\n",
    "end"
   ]
  },
  {
   "cell_type": "markdown",
   "metadata": {},
   "source": [
    "Function: $e^{-x^2}$"
   ]
  },
  {
   "cell_type": "code",
   "execution_count": 2,
   "metadata": {},
   "outputs": [
    {
     "name": "stdout",
     "output_type": "stream",
     "text": [
      "ans =  1.628844846135831\r\n"
     ]
    }
   ],
   "source": [
    "format long\n",
    "f = @(x) [exp(-x*x)];\n",
    "TrapezoidalRule(f,-1,2,100)"
   ]
  },
  {
   "cell_type": "code",
   "execution_count": 3,
   "metadata": {},
   "outputs": [
    {
     "name": "stdout",
     "output_type": "stream",
     "text": [
      "ans =  1.628905523574849\r\n"
     ]
    }
   ],
   "source": [
    "quad(f,-1,2)"
   ]
  },
  {
   "cell_type": "markdown",
   "metadata": {},
   "source": [
    "Function: $x^2$"
   ]
  },
  {
   "cell_type": "code",
   "execution_count": 4,
   "metadata": {},
   "outputs": [
    {
     "name": "stdout",
     "output_type": "stream",
     "text": [
      "a =    3.333338322098636e-01\r\n"
     ]
    }
   ],
   "source": [
    "format long\n",
    "f = @(x) [x*x];\n",
    "a = TrapezoidalRule(f,0,1,578)"
   ]
  },
  {
   "cell_type": "code",
   "execution_count": 5,
   "metadata": {},
   "outputs": [
    {
     "name": "stdout",
     "output_type": "stream",
     "text": [
      "b =    3.333333333333334e-01\r\n"
     ]
    }
   ],
   "source": [
    "b = quad(f,0,1)"
   ]
  },
  {
   "cell_type": "code",
   "execution_count": 6,
   "metadata": {},
   "outputs": [
    {
     "name": "stdout",
     "output_type": "stream",
     "text": [
      "0.1234567\n",
      "3.3333383e-01\n",
      "3.3333333e-01\n"
     ]
    }
   ],
   "source": [
    "printf('0.1234567\\n');\n",
    "printf('%0.7e\\n', a);\n",
    "printf('%0.7e\\n', b);"
   ]
  }
 ],
 "metadata": {
  "kernelspec": {
   "display_name": "Octave",
   "language": "octave",
   "name": "octave"
  },
  "language_info": {
   "file_extension": ".m",
   "help_links": [
    {
     "text": "GNU Octave",
     "url": "https://www.gnu.org/software/octave/support.html"
    },
    {
     "text": "Octave Kernel",
     "url": "https://github.com/Calysto/octave_kernel"
    },
    {
     "text": "MetaKernel Magics",
     "url": "https://metakernel.readthedocs.io/en/latest/source/README.html"
    }
   ],
   "mimetype": "text/x-octave",
   "name": "octave",
   "version": "5.1.0"
  }
 },
 "nbformat": 4,
 "nbformat_minor": 2
}
