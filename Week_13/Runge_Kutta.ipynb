{
 "cells": [
  {
   "cell_type": "markdown",
   "metadata": {},
   "source": [
    "# Runge-Kutta"
   ]
  },
  {
   "cell_type": "code",
   "execution_count": 4,
   "metadata": {},
   "outputs": [
    {
     "name": "stdout",
     "output_type": "stream",
     "text": [
      "\r\n"
     ]
    },
    {
     "name": "stderr",
     "output_type": "stream",
     "text": [
      "\u001b[0;31mContinuation prompt found - input was incomplete:\n",
      "function [t,u] = RK3(f, tRange, u0, N)\n",
      "% ODEs of the form u'=f(t,u). Here f = name of an m-file which\n",
      "% defines \"du = f(u,t)\" to compute the RHS of the ODE as a row\n",
      "% vector. tRange = [t0,t1], where the solution will be computed\n",
      "% for t0<=t<=t1. Also\n",
      "% u0 = column vector of initial values for u at t0\n",
      "% N  = number of equally-sized steps from t0 to t1\n",
      "% t  = row vector of values of t\n",
      "% u  = matrix whose n-th row is the approx. solution at t(n).\n",
      "\n",
      "t      = zeros(N+1,1);                     % initialize t\n",
      "t(1)   = tRange(1);\n",
      "h      = (tRange(2)-tRange(1))/N;\n",
      "u(:,1) = u0;                               % u0 (transpose)\n",
      "for n = 1 : N\n",
      "  t(n+1)   = t(n) + h;\n",
      "  u(:,n+1) = u(:,n) + (k1 + 4 * k2 + k3) * h/6;\n",
      "end\n",
      "\u001b[0m"
     ]
    }
   ],
   "source": [
    "function [t,u] = RK3(f, tRange, u0, N)\n",
    "% ODEs of the form u'=f(t,u). Here f = name of an m-file which\n",
    "% defines \"du = f(u,t)\" to compute the RHS of the ODE as a row\n",
    "% vector. tRange = [t0,t1], where the solution will be computed\n",
    "% for t0<=t<=t1. Also\n",
    "% u0 = column vector of initial values for u at t0\n",
    "% N  = number of equally-sized steps from t0 to t1\n",
    "% t  = row vector of values of t\n",
    "% u  = matrix whose n-th row is the approx. solution at t(n).\n",
    "\n",
    "t      = zeros(N+1,1);                     % initialize t\n",
    "t(1)   = tRange(1);\n",
    "h      = (tRange(2)-tRange(1))/N;\n",
    "u(:,1) = u0;                               % u0 (transpose)\n",
    "for n = 1 : N\n",
    "    t1 = t(k) + h / 2;\n",
    "    k1 = feval(f, t(k), u(:,k));\n",
    "    k2 = feval(f, t1, u(:,k) + k1/2 )\n",
    "    k3 = \n",
    "    t2 = \n",
    "  t(n+1)   = t(n) + h;\n",
    "  u(:,n+1) = u(:,n) + (k1 + 4 * k2 + k3) * h/6;\n",
    "end"
   ]
  }
 ],
 "metadata": {
  "kernelspec": {
   "display_name": "Octave",
   "language": "octave",
   "name": "octave"
  },
  "language_info": {
   "file_extension": ".m",
   "help_links": [
    {
     "text": "GNU Octave",
     "url": "https://www.gnu.org/software/octave/support.html"
    },
    {
     "text": "Octave Kernel",
     "url": "https://github.com/Calysto/octave_kernel"
    },
    {
     "text": "MetaKernel Magics",
     "url": "https://metakernel.readthedocs.io/en/latest/source/README.html"
    }
   ],
   "mimetype": "text/x-octave",
   "name": "octave",
   "version": "5.1.0"
  }
 },
 "nbformat": 4,
 "nbformat_minor": 2
}
