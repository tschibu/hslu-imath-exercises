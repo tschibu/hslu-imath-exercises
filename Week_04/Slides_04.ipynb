{
 "cells": [
  {
   "cell_type": "markdown",
   "metadata": {},
   "source": [
    "# Translation"
   ]
  },
  {
   "cell_type": "markdown",
   "metadata": {},
   "source": [
    "## Simple example"
   ]
  },
  {
   "cell_type": "code",
   "execution_count": 1,
   "metadata": {},
   "outputs": [
    {
     "name": "stdout",
     "output_type": "stream",
     "text": [
      "T =\r\n",
      "\r\n",
      "   1   0   1\r\n",
      "   0   1   1\r\n",
      "   0   0   1\r\n",
      "\r\n"
     ]
    }
   ],
   "source": [
    "T = [1 0 1 ; 0 1 1 ; 0 0 1]"
   ]
  },
  {
   "cell_type": "code",
   "execution_count": 2,
   "metadata": {},
   "outputs": [
    {
     "name": "stdout",
     "output_type": "stream",
     "text": [
      "P =\r\n",
      "\r\n",
      "   2   4   4   2\r\n",
      "   1   1   3   3\r\n",
      "   1   1   1   1\r\n",
      "\r\n"
     ]
    }
   ],
   "source": [
    "P = [2 4 4 2 ; 1 1 3 3 ; 1 1 1 1]"
   ]
  },
  {
   "cell_type": "code",
   "execution_count": 3,
   "metadata": {},
   "outputs": [
    {
     "name": "stdout",
     "output_type": "stream",
     "text": [
      "ans =\r\n",
      "\r\n",
      "   3   5   5   3\r\n",
      "   2   2   4   4\r\n",
      "   1   1   1   1\r\n",
      "\r\n"
     ]
    }
   ],
   "source": [
    "T*P"
   ]
  },
  {
   "cell_type": "markdown",
   "metadata": {},
   "source": [
    "# Rotation in 2D"
   ]
  },
  {
   "cell_type": "code",
   "execution_count": 4,
   "metadata": {},
   "outputs": [
    {
     "name": "stdout",
     "output_type": "stream",
     "text": [
      "'inv' is a built-in function from the file libinterp/corefcn/inv.cc\r\n",
      "\r\n",
      " -- X = inv (A)\r\n",
      " -- [X, RCOND] = inv (A)\r\n",
      "     Compute the inverse of the square matrix A.\r\n",
      "\r\n",
      "     Return an estimate of the reciprocal condition number if requested,\r\n",
      "     otherwise warn of an ill-conditioned matrix if the reciprocal\r\n",
      "     condition number is small.\r\n",
      "\r\n",
      "     In general it is best to avoid calculating the inverse of a matrix\r\n",
      "     directly.  For example, it is both faster and more accurate to\r\n",
      "     solve systems of equations (A*x = b) with 'Y = A \\ b', rather than\r\n",
      "     'Y = inv (A) * b'.\r\n",
      "\r\n",
      "     If called with a sparse matrix, then in general X will be a full\r\n",
      "     matrix requiring significantly more storage.  Avoid forming the\r\n",
      "     inverse of a sparse matrix if possible.\r\n",
      "\r\n",
      "     See also: ldivide, rdivide, pinv.\r\n",
      "\r\n",
      "Additional help for built-in functions and operators is\r\n",
      "available in the online version of the manual.  Use the command\r\n",
      "'doc <topic>' to search the manual index.\r\n",
      "\r\n",
      "Help and information about Octave is also available on the WWW\r\n",
      "at https://www.octave.org and via the help@octave.org\r\n",
      "mailing list.\r\n"
     ]
    }
   ],
   "source": [
    "T = [1  0 1 ; 0 1 0; 0 0 1];\n",
    "R = [0 -1 0 ; 1 0 0; 0 0 1];\n",
    "TTrans = inv(T); # Compute the inverse of the square matrix A.\n",
    "help inv"
   ]
  },
  {
   "cell_type": "code",
   "execution_count": 5,
   "metadata": {},
   "outputs": [
    {
     "name": "stdout",
     "output_type": "stream",
     "text": [
      "R =\r\n",
      "\r\n",
      "   0  -1  -1\r\n",
      "   1   0   1\r\n",
      "   0   0   1\r\n",
      "\r\n"
     ]
    }
   ],
   "source": [
    "R = TTrans * R * T"
   ]
  },
  {
   "cell_type": "code",
   "execution_count": 6,
   "metadata": {},
   "outputs": [
    {
     "name": "stdout",
     "output_type": "stream",
     "text": [
      "ans =\r\n",
      "\r\n",
      "  -1  -1  -2  -2\r\n",
      "   1   2   2   1\r\n",
      "   1   1   1   1\r\n",
      "\r\n"
     ]
    }
   ],
   "source": [
    "P = [0 1 1 0 ; 0 0 1 1 ; 1 1 1 1];\n",
    "R*P"
   ]
  }
 ],
 "metadata": {
  "kernelspec": {
   "display_name": "Octave",
   "language": "octave",
   "name": "octave"
  },
  "language_info": {
   "file_extension": ".m",
   "help_links": [
    {
     "text": "GNU Octave",
     "url": "https://www.gnu.org/software/octave/support.html"
    },
    {
     "text": "Octave Kernel",
     "url": "https://github.com/Calysto/octave_kernel"
    },
    {
     "text": "MetaKernel Magics",
     "url": "https://metakernel.readthedocs.io/en/latest/source/README.html"
    }
   ],
   "mimetype": "text/x-octave",
   "name": "octave",
   "version": "5.1.0"
  }
 },
 "nbformat": 4,
 "nbformat_minor": 2
}
