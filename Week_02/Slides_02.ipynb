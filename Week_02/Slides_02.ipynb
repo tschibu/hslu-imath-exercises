{
 "cells": [
  {
   "cell_type": "markdown",
   "metadata": {},
   "source": [
    "# Rank / Reduce echolo form"
   ]
  },
  {
   "cell_type": "code",
   "execution_count": 1,
   "metadata": {},
   "outputs": [
    {
     "name": "stdout",
     "output_type": "stream",
     "text": [
      "A =\r\n",
      "\r\n",
      "   1   1   2   4\r\n",
      "   1   2   2   5\r\n",
      "   1   3   2   6\r\n",
      "\r\n"
     ]
    }
   ],
   "source": [
    "A = [1 1 2 4; 1 2 2 5; 1 3 2 6]"
   ]
  },
  {
   "cell_type": "code",
   "execution_count": 2,
   "metadata": {},
   "outputs": [],
   "source": [
    "P1 = [1 0 0; -1 1 0; 0 0 1];\n",
    "P2 = [1 0 0; 0 1 0; -1 0 1];\n",
    "P3 = [1 0 0; 0 1 0; 0 -2 1];\n",
    "P4 = [1 -1 0; 0 1 0; 0 0 1];"
   ]
  },
  {
   "cell_type": "code",
   "execution_count": 3,
   "metadata": {},
   "outputs": [
    {
     "name": "stdout",
     "output_type": "stream",
     "text": [
      "R =\r\n",
      "\r\n",
      "   1   0   2   3\r\n",
      "   0   1   0   1\r\n",
      "   0   0   0   0\r\n",
      "\r\n"
     ]
    }
   ],
   "source": [
    "R = P4 * P3 * P2 * P1 * A"
   ]
  },
  {
   "cell_type": "code",
   "execution_count": 5,
   "metadata": {},
   "outputs": [
    {
     "name": "stdout",
     "output_type": "stream",
     "text": [
      "'rref' is a function from the file /usr/local/Cellar/octave/5.1.0_8/share/octave/5.1.0/m/linear-algebra/rref.m\n",
      "\n",
      " -- rref (A)\n",
      " -- rref (A, TOL)\n",
      " -- [R, K] = rref (...)\n",
      "     Return the reduced row echelon form of A.\n",
      "\n",
      "     TOL defaults to 'eps * max (size (A)) * norm (A, inf)'.\n",
      "\n",
      "     The optional return argument K contains the vector of \"bound\n",
      "     variables\", which are those columns on which elimination has been\n",
      "     performed.\n",
      "\n",
      "Additional help for built-in functions and operators is\n",
      "available in the online version of the manual.  Use the command\n",
      "'doc <topic>' to search the manual index.\n",
      "\n",
      "Help and information about Octave is also available on the WWW\n",
      "at https://www.octave.org and via the help@octave.org\n",
      "mailing list.\n",
      "ans =\n",
      "\n",
      "   1   0   2   3\n",
      "   0   1   0   1\n",
      "   0   0   0   0\n",
      "\n"
     ]
    }
   ],
   "source": [
    "help rref\n",
    "rref(A)"
   ]
  }
 ],
 "metadata": {
  "kernelspec": {
   "display_name": "Octave",
   "language": "octave",
   "name": "octave"
  },
  "language_info": {
   "file_extension": ".m",
   "help_links": [
    {
     "text": "GNU Octave",
     "url": "https://www.gnu.org/software/octave/support.html"
    },
    {
     "text": "Octave Kernel",
     "url": "https://github.com/Calysto/octave_kernel"
    },
    {
     "text": "MetaKernel Magics",
     "url": "https://metakernel.readthedocs.io/en/latest/source/README.html"
    }
   ],
   "mimetype": "text/x-octave",
   "name": "octave",
   "version": "5.1.0"
  }
 },
 "nbformat": 4,
 "nbformat_minor": 2
}
